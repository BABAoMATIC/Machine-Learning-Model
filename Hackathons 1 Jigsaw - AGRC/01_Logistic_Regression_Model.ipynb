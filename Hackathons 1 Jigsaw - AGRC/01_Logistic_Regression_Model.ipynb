{
  "cells": [
    {
      "cell_type": "markdown",
      "metadata": {},
      "source": [
        "# Model 1: Logistic Regression - Jigsaw Agile Community Rules Classification\n",
        "\n",
        "This notebook implements a **Logistic Regression** model for the Jigsaw Agile Community Rules Classification hackathon.\n",
        "\n",
        "## Model Details:\n",
        "- **Algorithm**: Logistic Regression with TF-IDF features\n",
        "- **Features**: 15,000 TF-IDF features with (1,2) n-grams\n",
        "- **Hyperparameters**: C=0.1, solver='liblinear', class_weight='balanced'\n",
        "- **Target**: Achieve >92% accuracy\n",
        "\n",
        "## Features Used:\n",
        "- Data augmentation with positive/negative examples\n",
        "- Enhanced text preprocessing with [SEP] separators\n",
        "- URL detection and text length features\n",
        "- TF-IDF vectorization with multiple configurations\n"
      ]
    },
    {
      "cell_type": "code",
      "execution_count": 1,
      "metadata": {},
      "outputs": [
        {
          "name": "stdout",
          "output_type": "stream",
          "text": [
            "Libraries imported successfully!\n",
            "Model: Logistic Regression\n"
          ]
        }
      ],
      "source": [
        "# Import required libraries\n",
        "import pandas as pd\n",
        "import numpy as np\n",
        "from sklearn.model_selection import train_test_split\n",
        "from sklearn.feature_extraction.text import TfidfVectorizer\n",
        "from sklearn.linear_model import LogisticRegression\n",
        "from sklearn.metrics import roc_auc_score, accuracy_score, classification_report\n",
        "import warnings\n",
        "warnings.filterwarnings('ignore')\n",
        "\n",
        "# Set random seed for reproducibility\n",
        "np.random.seed(42)\n",
        "\n",
        "print(\"Libraries imported successfully!\")\n",
        "print(\"Model: Logistic Regression\")\n"
      ]
    },
    {
      "cell_type": "code",
      "execution_count": 2,
      "metadata": {},
      "outputs": [
        {
          "name": "stdout",
          "output_type": "stream",
          "text": [
            "Train dataset shape: (2029, 9)\n",
            "Test dataset shape: (10, 8)\n",
            "Train columns: ['row_id', 'body', 'rule', 'subreddit', 'positive_example_1', 'positive_example_2', 'negative_example_1', 'negative_example_2', 'rule_violation']\n",
            "\n",
            "First few rows of training data:\n",
            "   row_id                                               body  \\\n",
            "0       0  Banks don't want you to know this! Click here ...   \n",
            "1       1  SD Stream [ ENG Link 1] (http://www.sportsstre...   \n",
            "2       2  Lol. Try appealing the ban and say you won't d...   \n",
            "3       3  she will come your home open her legs with  an...   \n",
            "4       4  code free tyrande --->>> [Imgur](http://i.imgu...   \n",
            "\n",
            "                                                rule      subreddit  \\\n",
            "0  No Advertising: Spam, referral links, unsolici...     Futurology   \n",
            "1  No Advertising: Spam, referral links, unsolici...  soccerstreams   \n",
            "2  No legal advice: Do not offer or request legal...   pcmasterrace   \n",
            "3  No Advertising: Spam, referral links, unsolici...            sex   \n",
            "4  No Advertising: Spam, referral links, unsolici...    hearthstone   \n",
            "\n",
            "                                  positive_example_1  \\\n",
            "0  If you could tell your younger self something ...   \n",
            "1  [I wanna kiss you all over! Stunning!](http://...   \n",
            "2  Don't break up with him or call the cops.  If ...   \n",
            "3  Selling Tyrande codes for 3€ to paypal. PM. \\n...   \n",
            "4   wow!! amazing reminds me of the old days.Well...   \n",
            "\n",
            "                                  positive_example_2  \\\n",
            "0  hunt for lady for jack off in neighbourhood ht...   \n",
            "1  LOLGA.COM is One of the First Professional Onl...   \n",
            "2  It'll be dismissed: https://en.wikipedia.org/w...   \n",
            "3  tight pussy watch for your cock get her at thi...   \n",
            "4  seek for lady for sex in around http://p77.pl/...   \n",
            "\n",
            "                                  negative_example_1  \\\n",
            "0  Watch Golden Globe Awards 2017 Live Online in ...   \n",
            "1  #Rapper \\n🚨Straight Outta Cross Keys SC 🚨YouTu...   \n",
            "2  Where is there a site that still works where y...   \n",
            "3  NSFW(obviously) http://spankbang.com/iy3u/vide...   \n",
            "4  must be watch movie https://sites.google.com/s...   \n",
            "\n",
            "                                  negative_example_2  rule_violation  \n",
            "0  DOUBLE CEE x BANDS EPPS - \"BIRDS\"\\n\\nDOWNLOAD/...               0  \n",
            "1  [15 Amazing Hidden Features Of Google Search Y...               0  \n",
            "2  Because this statement of his is true. It isn'...               1  \n",
            "3  Good News ::Download WhatsApp 2.16.230 APK for...               1  \n",
            "4  We're streaming Pokemon Veitnamese Crystal RIG...               1  \n"
          ]
        }
      ],
      "source": [
        "# Load the datasets\n",
        "train_df = pd.read_csv('train.csv')\n",
        "test_df = pd.read_csv('test.csv')\n",
        "\n",
        "print(f\"Train dataset shape: {train_df.shape}\")\n",
        "print(f\"Test dataset shape: {test_df.shape}\")\n",
        "print(f\"Train columns: {train_df.columns.tolist()}\")\n",
        "\n",
        "# Display first few rows\n",
        "print(\"\\nFirst few rows of training data:\")\n",
        "print(train_df.head())\n"
      ]
    },
    {
      "cell_type": "code",
      "execution_count": 3,
      "metadata": {},
      "outputs": [
        {
          "name": "stdout",
          "output_type": "stream",
          "text": [
            "Original train data size: 2029\n",
            "Augmented train data size: 10145\n",
            "Class distribution: {1: 5089, 0: 5056}\n"
          ]
        }
      ],
      "source": [
        "# Data augmentation: Add positive and negative examples\n",
        "def augment_training_data(df):\n",
        "    \"\"\"Augment training data with positive/negative examples\"\"\"\n",
        "    augmented_data = []\n",
        "    \n",
        "    # Add original data\n",
        "    for _, row in df.iterrows():\n",
        "        augmented_data.append({\n",
        "            'body': row['body'],\n",
        "            'rule': row['rule'],\n",
        "            'subreddit': row['subreddit'],\n",
        "            'rule_violation': row['rule_violation']\n",
        "        })\n",
        "    \n",
        "    # Add positive examples (rule_violation=1)\n",
        "    for _, row in df.iterrows():\n",
        "        if pd.notna(row['positive_example_1']):\n",
        "            augmented_data.append({\n",
        "                'body': row['positive_example_1'],\n",
        "                'rule': row['rule'],\n",
        "                'subreddit': row['subreddit'],\n",
        "                'rule_violation': 1\n",
        "            })\n",
        "        if pd.notna(row['positive_example_2']):\n",
        "            augmented_data.append({\n",
        "                'body': row['positive_example_2'],\n",
        "                'rule': row['rule'],\n",
        "                'subreddit': row['subreddit'],\n",
        "                'rule_violation': 1\n",
        "            })\n",
        "    \n",
        "    # Add negative examples (rule_violation=0)\n",
        "    for _, row in df.iterrows():\n",
        "        if pd.notna(row['negative_example_1']):\n",
        "            augmented_data.append({\n",
        "                'body': row['negative_example_1'],\n",
        "                'rule': row['rule'],\n",
        "                'subreddit': row['subreddit'],\n",
        "                'rule_violation': 0\n",
        "            })\n",
        "        if pd.notna(row['negative_example_2']):\n",
        "            augmented_data.append({\n",
        "                'body': row['negative_example_2'],\n",
        "                'rule': row['rule'],\n",
        "                'subreddit': row['subreddit'],\n",
        "                'rule_violation': 0\n",
        "            })\n",
        "    \n",
        "    return pd.DataFrame(augmented_data)\n",
        "\n",
        "# Augment the training data\n",
        "augmented_train = augment_training_data(train_df)\n",
        "print(f\"Original train data size: {len(train_df)}\")\n",
        "print(f\"Augmented train data size: {len(augmented_train)}\")\n",
        "print(f\"Class distribution: {augmented_train['rule_violation'].value_counts().to_dict()}\")\n"
      ]
    },
    {
      "cell_type": "code",
      "execution_count": 4,
      "metadata": {},
      "outputs": [
        {
          "name": "stdout",
          "output_type": "stream",
          "text": [
            "Features added successfully!\n",
            "New columns: ['body', 'rule', 'subreddit', 'rule_violation', 'has_url', 'body_length', 'word_count', 'avg_word_length', 'exclamation_count', 'question_count', 'caps_ratio', 'digit_count']\n"
          ]
        }
      ],
      "source": [
        "# Feature engineering: Add has_url and body_length features\n",
        "def add_features(df):\n",
        "    \"\"\"Add enhanced features to the dataframe\"\"\"\n",
        "    df = df.copy()\n",
        "    \n",
        "    # Basic features\n",
        "    df['has_url'] = df['body'].apply(lambda x: 1 if ('http' in str(x).lower() or 'www' in str(x).lower()) else 0)\n",
        "    df['body_length'] = df['body'].apply(lambda x: len(str(x)))\n",
        "    df['word_count'] = df['body'].apply(lambda x: len(str(x).split()))\n",
        "    df['avg_word_length'] = df['body'].apply(lambda x: np.mean([len(word) for word in str(x).split()]) if len(str(x).split()) > 0 else 0)\n",
        "    \n",
        "    # Advanced text features\n",
        "    df['exclamation_count'] = df['body'].apply(lambda x: str(x).count('!'))\n",
        "    df['question_count'] = df['body'].apply(lambda x: str(x).count('?'))\n",
        "    df['caps_ratio'] = df['body'].apply(lambda x: sum(1 for c in str(x) if c.isupper()) / len(str(x)) if len(str(x)) > 0 else 0)\n",
        "    df['digit_count'] = df['body'].apply(lambda x: sum(1 for c in str(x) if c.isdigit()))\n",
        "    \n",
        "    return df\n",
        "\n",
        "# Add features to augmented training data\n",
        "augmented_train = add_features(augmented_train)\n",
        "\n",
        "# Add features to test data\n",
        "test_df = add_features(test_df)\n",
        "\n",
        "print(\"Features added successfully!\")\n",
        "print(f\"New columns: {augmented_train.columns.tolist()}\")\n"
      ]
    },
    {
      "cell_type": "code",
      "execution_count": 5,
      "metadata": {},
      "outputs": [
        {
          "name": "stdout",
          "output_type": "stream",
          "text": [
            "Text combination completed!\n",
            "Sample of enhanced text (first 200 chars):\n",
            "Banks don't want you to know this! Click here to know more! [SEP] Rule: No Advertising: Spam, referral links, unsolicited advertising, and promotional content are not allowed. [SEP] Subreddit: Futurol...\n"
          ]
        }
      ],
      "source": [
        "# Combine text with [SEP] separators\n",
        "def combine_text(row):\n",
        "    \"\"\"Combine text with enhanced features\"\"\"\n",
        "    combined = f\"{row['body']} [SEP] Rule: {row['rule']} [SEP] Subreddit: {row['subreddit']} [SEP] URL: {row['has_url']} [SEP] Length: {row['body_length']} [SEP] Words: {row['word_count']} [SEP] AvgWordLen: {row['avg_word_length']:.1f} [SEP] Exclamations: {row['exclamation_count']} [SEP] Questions: {row['question_count']} [SEP] CapsRatio: {row['caps_ratio']:.2f} [SEP] Digits: {row['digit_count']}\"\n",
        "    return combined\n",
        "\n",
        "# Apply text combination\n",
        "augmented_train['enhanced_text'] = augmented_train.apply(combine_text, axis=1)\n",
        "test_df['enhanced_text'] = test_df.apply(combine_text, axis=1)\n",
        "\n",
        "print(\"Text combination completed!\")\n",
        "print(f\"Sample of enhanced text (first 200 chars):\")\n",
        "print(augmented_train['enhanced_text'].iloc[0][:200] + \"...\")\n"
      ]
    },
    {
      "cell_type": "code",
      "execution_count": 6,
      "metadata": {},
      "outputs": [
        {
          "name": "stdout",
          "output_type": "stream",
          "text": [
            "Training set size: 8116\n",
            "Validation set size: 2029\n",
            "Training class distribution: {1: 4071, 0: 4045}\n",
            "Validation class distribution: {1: 1018, 0: 1011}\n"
          ]
        }
      ],
      "source": [
        "# Split data into train and validation sets\n",
        "X = augmented_train['enhanced_text']\n",
        "y = augmented_train['rule_violation']\n",
        "\n",
        "X_train, X_val, y_train, y_val = train_test_split(\n",
        "    X, y, test_size=0.2, random_state=42, stratify=y\n",
        ")\n",
        "\n",
        "print(f\"Training set size: {len(X_train)}\")\n",
        "print(f\"Validation set size: {len(X_val)}\")\n",
        "print(f\"Training class distribution: {y_train.value_counts().to_dict()}\")\n",
        "print(f\"Validation class distribution: {y_val.value_counts().to_dict()}\")\n"
      ]
    },
    {
      "cell_type": "code",
      "execution_count": 7,
      "metadata": {},
      "outputs": [
        {
          "name": "stdout",
          "output_type": "stream",
          "text": [
            "Creating TF-IDF vectorizer for Logistic Regression...\n",
            "TF-IDF matrix shape - Train: (8116, 15000), Val: (2029, 15000), Test: (10, 15000)\n",
            "Number of features: 15000\n"
          ]
        }
      ],
      "source": [
        "# TF-IDF Vectorization for Logistic Regression\n",
        "print(\"Creating TF-IDF vectorizer for Logistic Regression...\")\n",
        "tfidf_vectorizer = TfidfVectorizer(\n",
        "    max_features=15000,\n",
        "    ngram_range=(1, 2),\n",
        "    min_df=2,\n",
        "    max_df=0.95,\n",
        "    stop_words='english'\n",
        ")\n",
        "\n",
        "# Fit and transform training data\n",
        "X_train_tfidf = tfidf_vectorizer.fit_transform(X_train)\n",
        "X_val_tfidf = tfidf_vectorizer.transform(X_val)\n",
        "X_test_tfidf = tfidf_vectorizer.transform(test_df['enhanced_text'])\n",
        "\n",
        "print(f\"TF-IDF matrix shape - Train: {X_train_tfidf.shape}, Val: {X_val_tfidf.shape}, Test: {X_test_tfidf.shape}\")\n",
        "print(f\"Number of features: {X_train_tfidf.shape[1]}\")\n"
      ]
    },
    {
      "cell_type": "code",
      "execution_count": 8,
      "metadata": {},
      "outputs": [
        {
          "name": "stdout",
          "output_type": "stream",
          "text": [
            "============================================================\n",
            "TRAINING LOGISTIC REGRESSION MODEL\n",
            "============================================================\n",
            "Training Logistic Regression...\n",
            "\n",
            "Logistic Regression Results:\n",
            "  AUC Score: 0.9688\n",
            "  Accuracy: 0.9202 (92.02%)\n",
            "\n",
            "Classification Report:\n",
            "              precision    recall  f1-score   support\n",
            "\n",
            "           0       0.92      0.91      0.92      1011\n",
            "           1       0.92      0.93      0.92      1018\n",
            "\n",
            "    accuracy                           0.92      2029\n",
            "   macro avg       0.92      0.92      0.92      2029\n",
            "weighted avg       0.92      0.92      0.92      2029\n",
            "\n"
          ]
        }
      ],
      "source": [
        "# Train Logistic Regression Model\n",
        "print(\"=\"*60)\n",
        "print(\"TRAINING LOGISTIC REGRESSION MODEL\")\n",
        "print(\"=\"*60)\n",
        "\n",
        "# Initialize and train the model\n",
        "lr_model = LogisticRegression(\n",
        "    random_state=42,\n",
        "    max_iter=2000,\n",
        "    class_weight='balanced',\n",
        "    C=0.1,\n",
        "    solver='liblinear'\n",
        ")\n",
        "\n",
        "print(\"Training Logistic Regression...\")\n",
        "lr_model.fit(X_train_tfidf, y_train)\n",
        "\n",
        "# Make predictions on validation set\n",
        "y_val_pred_proba = lr_model.predict_proba(X_val_tfidf)[:, 1]\n",
        "y_val_pred_binary = lr_model.predict(X_val_tfidf)\n",
        "\n",
        "# Calculate metrics\n",
        "lr_auc = roc_auc_score(y_val, y_val_pred_proba)\n",
        "lr_accuracy = accuracy_score(y_val, y_val_pred_binary)\n",
        "\n",
        "print(f\"\\nLogistic Regression Results:\")\n",
        "print(f\"  AUC Score: {lr_auc:.4f}\")\n",
        "print(f\"  Accuracy: {lr_accuracy:.4f} ({lr_accuracy*100:.2f}%)\")\n",
        "\n",
        "# Classification report\n",
        "print(f\"\\nClassification Report:\")\n",
        "print(classification_report(y_val, y_val_pred_binary))\n"
      ]
    },
    {
      "cell_type": "code",
      "execution_count": 10,
      "metadata": {},
      "outputs": [
        {
          "name": "stdout",
          "output_type": "stream",
          "text": [
            "Generating test predictions...\n",
            "Test predictions generated: 10\n",
            "Prediction range: [0.2707, 0.6807]\n",
            "Mean prediction: 0.4866\n",
            "\n",
            "Submission file saved to: logistic_regression_submission.csv\n",
            "Submission shape: (10, 2)\n",
            "\n",
            "First few predictions:\n",
            "   row_id  rule_violation\n",
            "0    2029        0.449083\n",
            "1    2030        0.551495\n",
            "2    2031        0.563740\n",
            "3    2032        0.540546\n",
            "4    2033        0.680694\n"
          ]
        }
      ],
      "source": [
        "# Generate test predictions\n",
        "print(\"Generating test predictions...\")\n",
        "test_predictions = lr_model.predict_proba(X_test_tfidf)[:, 1]\n",
        "\n",
        "print(f\"Test predictions generated: {len(test_predictions)}\")\n",
        "print(f\"Prediction range: [{min(test_predictions):.4f}, {max(test_predictions):.4f}]\")\n",
        "print(f\"Mean prediction: {np.mean(test_predictions):.4f}\")\n",
        "\n",
        "# Create submission file\n",
        "submission_df = pd.DataFrame({\n",
        "    'row_id': test_df['row_id'],\n",
        "    'rule_violation': test_predictions\n",
        "})\n",
        "\n",
        "# Save submission file\n",
        "submission_path = 'logistic_regression_submission.csv'\n",
        "submission_df.to_csv(submission_path, index=False)\n",
        "\n",
        "print(f\"\\nSubmission file saved to: {submission_path}\")\n",
        "print(f\"Submission shape: {submission_df.shape}\")\n",
        "print(f\"\\nFirst few predictions:\")\n",
        "print(submission_df.head())\n"
      ]
    },
    {
      "cell_type": "code",
      "execution_count": 11,
      "metadata": {},
      "outputs": [
        {
          "name": "stdout",
          "output_type": "stream",
          "text": [
            "======================================================================\n",
            "LOGISTIC REGRESSION MODEL SUMMARY\n",
            "======================================================================\n",
            "Model: Logistic Regression\n",
            "Features: TF-IDF (15,000 features, n-grams 1-2)\n",
            "Hyperparameters: C=0.1, solver='liblinear', class_weight='balanced'\n",
            "Validation AUC: 0.9688\n",
            "Validation Accuracy: 0.9202 (92.02%)\n",
            "Target Achieved (>92%): YES\n",
            "Submission File: logistic_regression_submission.csv\n",
            "======================================================================\n"
          ]
        }
      ],
      "source": [
        "# Final Summary\n",
        "print(\"=\"*70)\n",
        "print(\"LOGISTIC REGRESSION MODEL SUMMARY\")\n",
        "print(\"=\"*70)\n",
        "print(f\"Model: Logistic Regression\")\n",
        "print(f\"Features: TF-IDF (15,000 features, n-grams 1-2)\")\n",
        "print(f\"Hyperparameters: C=0.1, solver='liblinear', class_weight='balanced'\")\n",
        "print(f\"Validation AUC: {lr_auc:.4f}\")\n",
        "print(f\"Validation Accuracy: {lr_accuracy:.4f} ({lr_accuracy*100:.2f}%)\")\n",
        "print(f\"Target Achieved (>92%): {'YES' if lr_accuracy > 0.92 else 'NO'}\")\n",
        "print(f\"Submission File: {submission_path}\")\n",
        "print(\"=\"*70)\n"
      ]
    }
  ],
  "metadata": {
    "kernelspec": {
      "display_name": "Python 3",
      "language": "python",
      "name": "python3"
    },
    "language_info": {
      "codemirror_mode": {
        "name": "ipython",
        "version": 3
      },
      "file_extension": ".py",
      "mimetype": "text/x-python",
      "name": "python",
      "nbconvert_exporter": "python",
      "pygments_lexer": "ipython3",
      "version": "3.13.7"
    }
  },
  "nbformat": 4,
  "nbformat_minor": 2
}
